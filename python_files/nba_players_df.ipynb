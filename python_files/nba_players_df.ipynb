{
 "cells": [
  {
   "cell_type": "code",
   "execution_count": null,
   "metadata": {},
   "outputs": [],
   "source": [
    "#Import dependencies\n",
    "import pandas as pd\n",
    "import requests\n",
    "from pprint import pprint\n",
    "from api_keys import api_key"
   ]
  },
  {
   "cell_type": "code",
   "execution_count": null,
   "metadata": {},
   "outputs": [],
   "source": [
    "#Save API url\n",
    "url = \"https://api-nba-v1.p.rapidapi.com/players/\"\n",
    "\n",
    "#Query for players in the USA \n",
    "querystring = {\"country\":\"USA\"}\n",
    "\n",
    "#input header values\n",
    "headers = {\n",
    "\t\n",
    "\t#input api key from api key file\n",
    "\t\"X-RapidAPI-Key\": api_key,\n",
    "\t\"X-RapidAPI-Host\": \"api-nba-v1.p.rapidapi.com\"\n",
    "}\n",
    "#Stores response as a json file in variable response\n",
    "response = requests.get(url, headers=headers, params=querystring).json()\n",
    "\n",
    "#pretty print response\n",
    "pprint(response)"
   ]
  },
  {
   "cell_type": "code",
   "execution_count": null,
   "metadata": {},
   "outputs": [],
   "source": [
    "#saves response list as players \n",
    "players_data = response['response']\n",
    "\n",
    "#create an empty list to store each player dictionaries in \n",
    "players = []\n",
    "\n",
    "#loop through the json list\n",
    "for player in players_data:\n",
    "\n",
    "    #add each player dictionary to players list \n",
    "    players.append(player)\n",
    "\n",
    "#Displays first player entry\n",
    "players[0]"
   ]
  },
  {
   "cell_type": "code",
   "execution_count": null,
   "metadata": {},
   "outputs": [],
   "source": [
    "#Create a dataframe from the players array\n",
    "players_df = pd.DataFrame(players)\n",
    "\n",
    "#Display first 5 rows of the df\n",
    "players_df.head()"
   ]
  },
  {
   "cell_type": "code",
   "execution_count": null,
   "metadata": {},
   "outputs": [],
   "source": [
    "#Check column types\n",
    "players_df.dtypes"
   ]
  },
  {
   "cell_type": "code",
   "execution_count": null,
   "metadata": {},
   "outputs": [],
   "source": [
    "#change column types to strings\n",
    "players_df = players_df.convert_dtypes()\n",
    "\n",
    "#recheck column types\n",
    "players_df.dtypes\n"
   ]
  },
  {
   "cell_type": "code",
   "execution_count": null,
   "metadata": {},
   "outputs": [],
   "source": [
    "#create a function to identify columns that are object type\n",
    "def is_array_of_dicts(column_name):\n",
    "    #create an empty list\n",
    "    lib_column_names = []\n",
    "\n",
    "    #loop through columns in the dataframe\n",
    "    for column_name in players_df.columns:\n",
    "        \n",
    "        #checks if the column type is equal to object\n",
    "        if players_df[column_name].dtype == 'object':\n",
    "\n",
    "            #adds the column name to the list\n",
    "            lib_column_names.append(column_name)\n",
    "    #return the list of object columns        \n",
    "    return lib_column_names\n",
    "\n",
    "#create a function to split the dictionaries in the object columns\n",
    "def split_and_concat_columns(df, columns_to_split):\n",
    "\n",
    "    #loop through the given columns\n",
    "    for name in columns_to_split:\n",
    "\n",
    "        #splits the library into two columns\n",
    "        split_columns = df[name].apply(pd.Series)\n",
    "        \n",
    "        #organizes new columns to match\n",
    "        df = pd.concat([df, split_columns], axis=1)\n",
    "        \n",
    "        #drops the original column\n",
    "        df = df.drop(name,axis=1)\n",
    "    \n",
    "    #returns the new dataframe\n",
    "    return df\n",
    "\n",
    "#run the functions to split the columns with dictionaries as values\n",
    "players_df = split_and_concat_columns(players_df,is_array_of_dicts(players_df.columns))\n",
    "\n",
    "#display sample from dataframe\n",
    "players_df.head()\n"
   ]
  },
  {
   "cell_type": "code",
   "execution_count": null,
   "metadata": {},
   "outputs": [],
   "source": [
    "#drop new unnecessary columns\n",
    "players_df = players_df.drop(['meters', 'kilograms', 'vegas', 'africa','sacramento'],axis =1)\n",
    "\n",
    "#recheck column types\n",
    "print(players_df.dtypes)\n",
    "\n",
    "#display new df\n",
    "players_df.head()"
   ]
  },
  {
   "cell_type": "code",
   "execution_count": null,
   "metadata": {},
   "outputs": [],
   "source": [
    "#change the date column to datetime\n",
    "players_df['date'] = pd.to_datetime(players_df['date'])\n",
    "\n",
    "#convert other columns from obects to string if possible\n",
    "players_df = players_df.convert_dtypes()\n",
    "\n",
    "#recheck datatypes\n",
    "print(players_df.dtypes)\n",
    "\n",
    "#visualize dataframe\n",
    "players_df.head()"
   ]
  },
  {
   "cell_type": "code",
   "execution_count": null,
   "metadata": {},
   "outputs": [],
   "source": [
    "#split the 'standard' column\n",
    "players_df = split_and_concat_columns(players_df,is_array_of_dicts(players_df['standard']))\n",
    "\n",
    "#display dataframe\n",
    "players_df.head()"
   ]
  },
  {
   "cell_type": "code",
   "execution_count": null,
   "metadata": {},
   "outputs": [],
   "source": [
    "#drop 0 column\n",
    "players_df = players_df.drop([0],axis =1)\n",
    "\n",
    "#display dataframe\n",
    "players_df.head()"
   ]
  },
  {
   "cell_type": "code",
   "execution_count": null,
   "metadata": {},
   "outputs": [],
   "source": [
    "#drop rows with null, none, or <NA> values\n",
    "players_df = players_df.dropna()\n",
    "\n",
    "#reset the dataframe index\n",
    "players_df.reset_index(inplace=True)\n",
    "\n",
    "#recheck column types\n",
    "print(players_df.dtypes)\n",
    "\n",
    "#display dataframe\n",
    "players_df.head()"
   ]
  },
  {
   "cell_type": "code",
   "execution_count": null,
   "metadata": {},
   "outputs": [],
   "source": [
    "#Change height, weight, and jersy values to integers\n",
    "players_df['feets'] = players_df['feets'].astype(int)\n",
    "players_df['inches'] = players_df['inches'].astype(int)\n",
    "players_df['pounds'] = players_df['pounds'].astype(int)\n",
    "players_df['jersey'] = players_df['jersey'].astype(int)\n",
    "\n",
    "#recheck datatypes\n",
    "print(players_df.dtypes)\n",
    "#display sample of dataframe\n",
    "players_df.head()"
   ]
  },
  {
   "cell_type": "code",
   "execution_count": null,
   "metadata": {},
   "outputs": [],
   "source": [
    "#multiply feets values by 12 and add to the inches column to get full height in inches\n",
    "players_df['height(in)'] = (players_df['feets'] * 12) + players_df['inches']\n",
    "\n",
    "#drop feets and inches columns\n",
    "players_df = players_df.drop(['feets','inches'],axis=1)\n",
    "\n",
    "#display sample of df\n",
    "players_df.head()"
   ]
  },
  {
   "cell_type": "code",
   "execution_count": null,
   "metadata": {},
   "outputs": [],
   "source": []
  }
 ],
 "metadata": {
  "kernelspec": {
   "display_name": "dev",
   "language": "python",
   "name": "python3"
  },
  "language_info": {
   "codemirror_mode": {
    "name": "ipython",
    "version": 3
   },
   "file_extension": ".py",
   "mimetype": "text/x-python",
   "name": "python",
   "nbconvert_exporter": "python",
   "pygments_lexer": "ipython3",
   "version": "3.10.11"
  },
  "orig_nbformat": 4
 },
 "nbformat": 4,
 "nbformat_minor": 2
}
