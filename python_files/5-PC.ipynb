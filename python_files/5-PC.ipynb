{
 "cells": [
  {
   "cell_type": "code",
   "execution_count": 8,
   "id": "ee788d86-0666-46c3-91ed-25fdfe90a5c6",
   "metadata": {},
   "outputs": [],
   "source": [
    "# Import required libraries and dependencies\n",
    "import pandas as pd\n",
    "from sklearn.preprocessing import MinMaxScaler"
   ]
  },
  {
   "cell_type": "code",
   "execution_count": 9,
   "id": "3d905b57-742f-42c5-90a4-d4d607568793",
   "metadata": {},
   "outputs": [],
   "source": [
    "# Load the data\n",
    "player_df_details = pd.read_csv('Player_Details_for_Final_Tables.csv')\n",
    "player_pca_clusters_df = pd.read_csv('player_pca_clusters.csv')"
   ]
  },
  {
   "cell_type": "code",
   "execution_count": 10,
   "id": "b1ec2562-0a9b-4c0f-bbf1-3c4524326800",
   "metadata": {},
   "outputs": [],
   "source": [
    "# Merge the data\n",
    "player_df_details_merged = pd.merge(player_df_details, player_pca_clusters_df, on=[\"player_id\"], how='inner')"
   ]
  },
  {
   "cell_type": "code",
   "execution_count": 11,
   "id": "e93334e1-b60b-4d34-93e2-7e5f1f15050c",
   "metadata": {},
   "outputs": [],
   "source": [
    "# Select columns for Player data with PC1 through PC5\n",
    "player_df_details_player = player_df_details_merged[['player_id', 'firstname', 'lastname', 'PC1', 'PC2', 'PC3', 'PC4', 'PC5']]\n"
   ]
  },
  {
   "cell_type": "code",
   "execution_count": 12,
   "id": "f09973cb-7c17-4de1-ad84-75b34beee1bf",
   "metadata": {},
   "outputs": [],
   "source": [
    "# Select columns for Position data with PC1 through PC5\n",
    "player_df_details_position = player_df_details_merged[['pos', 'PC1', 'PC2', 'PC3', 'PC4', 'PC5']]"
   ]
  },
  {
   "cell_type": "code",
   "execution_count": 13,
   "id": "5b4f104e-4e4f-47e4-9480-0ae6c5dd8046",
   "metadata": {},
   "outputs": [],
   "source": [
    "# Export Player data with PC1 through PC5\n",
    "player_df_details_player.to_csv(\"Player_Stats_PC1_PC5.csv\", index=False)"
   ]
  },
  {
   "cell_type": "code",
   "execution_count": 14,
   "id": "4ac6fab6-19e0-47e2-acb8-9b65ce1d39e2",
   "metadata": {},
   "outputs": [],
   "source": [
    "# Export Position data with PC1 through PC5\n",
    "player_df_details_position.to_csv(\"Position_Stats_PC1_PC5.csv\", index=False)"
   ]
  },
  {
   "cell_type": "code",
   "execution_count": null,
   "id": "dfee85be-90c9-43a0-97d0-5eaba199241f",
   "metadata": {},
   "outputs": [],
   "source": []
  },
  {
   "cell_type": "code",
   "execution_count": null,
   "id": "6fbaa6b2-aac3-4027-a4a5-7417b36280f5",
   "metadata": {},
   "outputs": [],
   "source": []
  },
  {
   "cell_type": "code",
   "execution_count": null,
   "id": "4fa35867-cff3-4234-a399-a0772ad37379",
   "metadata": {},
   "outputs": [],
   "source": []
  }
 ],
 "metadata": {
  "kernelspec": {
   "display_name": "Python 3 (ipykernel)",
   "language": "python",
   "name": "python3"
  },
  "language_info": {
   "codemirror_mode": {
    "name": "ipython",
    "version": 3
   },
   "file_extension": ".py",
   "mimetype": "text/x-python",
   "name": "python",
   "nbconvert_exporter": "python",
   "pygments_lexer": "ipython3",
   "version": "3.10.9"
  }
 },
 "nbformat": 4,
 "nbformat_minor": 5
}
